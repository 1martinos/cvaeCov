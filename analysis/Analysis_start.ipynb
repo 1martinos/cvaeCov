{
 "cells": [
  {
   "cell_type": "code",
   "execution_count": null,
   "id": "054bf6ab-5a1d-498e-ad24-9c3d2b912709",
   "metadata": {},
   "outputs": [],
   "source": [
    "\"\"\"\n",
    "Import libraries, define a few functions, and find the necessary files.\n",
    "Remember to point the model_dir variable to where the model files are!\n",
    "\"\"\"\n",
    "\n",
    "import numpy as np\n",
    "import pickle as p\n",
    "import mdtraj as md\n",
    "import h5py as h\n",
    "import torch\n",
    "import os\n",
    "\n",
    "from matplotlib import pyplot as plt\n",
    "from glob import glob as g\n",
    "from pprint import pprint as pp\n",
    "from tqdm.notebook import tqdm\n",
    "from sklearn.manifold import TSNE\n",
    "\n",
    "if \"analysis\" in os.getcwd():\n",
    "    os.chdir(\"..\")\n",
    "import cvae\n",
    "\n",
    "def sglob(path):\n",
    "    return sorted(g(path))\n",
    "\n",
    "def file_name(path):\n",
    "    path = path.rsplit(\"/\",1)[-1]\n",
    "    path = path.rsplit(\".\",1)[0]\n",
    "    return path\n",
    "\n",
    "training_file = h.File(\"./data/train35.h5\")\n",
    "training_data = training_file[\"cmaps\"]\n",
    "training_labels = training_file[\"labels\"]\n",
    "\n",
    "model_dir = \"./models/cov35-21-08-29_1215/\" # Point to model directory\n",
    "model_files = sglob(model_dir+\"*\")\n",
    "eval_data_per_epoch_files = [f for f in model_files if file_name(f).isnumeric()] # These can be viewed using the scripts in the main section\n",
    "test_data_file = [f for f in model_files if file_name(f) == \"test_data\"][0]\n",
    "test_loss_file = [f for f in model_files if file_name(f) == \"test_loss\"][0]\n",
    "loss_stats_file = [f for f in model_files if \"loss_stats\" in f][0]\n",
    "model_file = [ f for f in model_files if \"pickle\" in f][0]"
   ]
  },
  {
   "cell_type": "code",
   "execution_count": null,
   "id": "d6a83679-dd60-4d1e-b776-dadb6abc15ee",
   "metadata": {},
   "outputs": [],
   "source": [
    "with open(model_file,\"rb\") as f:\n",
    "    nn = p.load(f)\n",
    "device = torch.device(\"cuda\" if torch.cuda.is_available() else \"cpu\")\n",
    "nn = nn.to(device)\n",
    "pp(nn)\n",
    "\n",
    "def strip(traj):                                                                                                                                                                      \n",
    "    for res in traj.top.residues:                                                                                                                                                         \n",
    "        if res.name == \"ALA\":                                                                                                                                                             \n",
    "            zero_idx = res.index                                                                                                                                                                                                                                                                                                                       \n",
    "            break                                                                                                                                                                         \n",
    "    res_range = range(zero_idx,zero_idx+595)                                                                                                                                              \n",
    "    atoms = []                                                                                                                                                                            \n",
    "    for i in res_range:                                                                                                                                                                   \n",
    "        for atom in traj.top._residues[i].atoms:                                                                                                                                          \n",
    "            atoms.append(atom.index)                                                                                                                                                      \n",
    "    return traj.atom_slice(atoms)\n",
    "\n",
    "def get_res_names(traj):\n",
    "    def res_name(res):\n",
    "        return f\"{res.name}-{res.resSeq}\"\n",
    "    return [res_name(r) for r in traj.top.residues]\n",
    "\n",
    "def pool_arr(arr,pool_size=17,cutoff=0.0,preapply=0.8):             \n",
    "    shape = arr.shape\n",
    "    if preapply:\n",
    "        arr = arr < preapply\n",
    "    try:                    \n",
    "        assert shape[0] == shape[1]          \n",
    "        shape = shape[0]                  \n",
    "    except AssertionError:\n",
    "        print(\"Only works for square arrays\")\n",
    "        raise NotImplementedError\n",
    "    if shape % pool_size != 0:\n",
    "        print(\"Please change pool_size\\n\"\n",
    "              \"None Integer division error\")\n",
    "        raise ArithmeticError\n",
    "    iters = int(shape/pool_size)\n",
    "    pooled = np.empty((iters,iters))\n",
    "    for i in range(iters):\n",
    "        ilow = i*pool_size\n",
    "        ihgh = (i+1)*pool_size\n",
    "        for j in range(iters):\n",
    "            jlow = j*pool_size\n",
    "            jhgh = (j+1)*pool_size\n",
    "            cur_arr = arr[ilow:ihgh,jlow:jhgh]\n",
    "            pooled[i,j] = 1 if np.average(cur_arr) > cutoff else 0\n",
    "    return pooled\n",
    "\n",
    "pdb_ref = \"./analysis/ref.pdb\"\n",
    "ref = strip(md.load(pdb_ref))\n",
    "res_names = get_res_names(ref)\n",
    "res_names[1] = res_names[1].replace(\"CY1\",\"CYS\")\n",
    "ref.n_residues"
   ]
  },
  {
   "cell_type": "code",
   "execution_count": null,
   "id": "8d0d0d50-634e-4497-8cc8-90d88b5cc896",
   "metadata": {},
   "outputs": [],
   "source": [
    "with open(test_data_file,\"rb\") as f:\n",
    "    test_data,test_data_labels = p.load(f)\n",
    "with open(test_loss_file,\"r\") as f:\n",
    "    test_loss = [line.strip() for line in f.readlines()]\n",
    "with open(loss_stats_file,\"r\") as f:\n",
    "    loss_stats = [line.strip() for line in f.readlines()]"
   ]
  },
  {
   "cell_type": "code",
   "execution_count": 65,
   "id": "4a65571e-6bce-403d-b1ff-7b1e997577ad",
   "metadata": {},
   "outputs": [
    {
     "name": "stdout",
     "output_type": "stream",
     "text": [
      "embedding...\n"
     ]
    },
    {
     "name": "stderr",
     "output_type": "stream",
     "text": [
      "100%|██████████| 7000/7000 [01:17<00:00, 90.68it/s] "
     ]
    },
    {
     "name": "stdout",
     "output_type": "stream",
     "text": [
      "(7000, 3)\n"
     ]
    },
    {
     "name": "stderr",
     "output_type": "stream",
     "text": [
      "\n"
     ]
    }
   ],
   "source": [
    "embeddings = []\n",
    "latent_size = None\n",
    "print(\"embedding...\")\n",
    "for x in tqdm(test_data):\n",
    "    with torch.no_grad():\n",
    "        x = x.detach().view(1,1,35,35).float().to(device)\n",
    "        x = np.array(nn(x)[-1].cpu())\n",
    "        if latent_size is None:\n",
    "            latent_size = x.shape[-1]\n",
    "        embeddings.append(x)\n",
    "embeddings = np.array(embeddings).reshape(-1,latent_size)\n",
    "pp(embeddings.shape)"
   ]
  },
  {
   "cell_type": "code",
   "execution_count": 67,
   "id": "c2f22979-5df6-460f-b873-e77ae323ff18",
   "metadata": {},
   "outputs": [
    {
     "name": "stdout",
     "output_type": "stream",
     "text": [
      "[t-SNE] Computing 91 nearest neighbors...\n",
      "[t-SNE] Indexed 7000 samples in 0.008s...\n",
      "[t-SNE] Computed neighbors for 7000 samples in 0.214s...\n",
      "[t-SNE] Computed conditional probabilities for sample 1000 / 7000\n",
      "[t-SNE] Computed conditional probabilities for sample 2000 / 7000\n",
      "[t-SNE] Computed conditional probabilities for sample 3000 / 7000\n",
      "[t-SNE] Computed conditional probabilities for sample 4000 / 7000\n",
      "[t-SNE] Computed conditional probabilities for sample 5000 / 7000\n",
      "[t-SNE] Computed conditional probabilities for sample 6000 / 7000\n",
      "[t-SNE] Computed conditional probabilities for sample 7000 / 7000\n",
      "[t-SNE] Mean sigma: 0.203907\n",
      "[t-SNE] KL divergence after 250 iterations with early exaggeration: 81.510628\n",
      "[t-SNE] KL divergence after 5000 iterations: 1.368006\n"
     ]
    }
   ],
   "source": [
    "\"\"\"\n",
    "T-SNE - Play with these parameters to find clusters, and try to colour by different parameters\n",
    "\"\"\"\n",
    "tsne_test = TSNE(perplexity=30, early_exaggeration=12.0, learning_rate=200.0, n_iter=5000,verbose=1)\n",
    "transformed_test_data = tsne_test.fit_transform(embeddings)"
   ]
  },
  {
   "cell_type": "code",
   "execution_count": 71,
   "id": "8ef04753-85ef-4108-a895-accb18d02384",
   "metadata": {},
   "outputs": [
    {
     "data": {
      "image/png": "[encoded data removed]",
      "text/plain": [
       "<Figure size 864x864 with 2 Axes>"
      ]
     },
     "metadata": {
      "needs_background": "light"
     },
     "output_type": "display_data"
    }
   ],
   "source": [
    "\"\"\" Example for CMAP plots\"\"\"\n",
    "cmap = training_data[0]\n",
    "plt.figure(figsize=(12,12))\n",
    "plt.imshow( np.flip(cmap,axis=1))\n",
    "plt.colorbar()\n",
    "xt = plt.xticks([i-0.5 for i in range(35)][::2],res_names[::17][::2],rotation=90)\n",
    "yt = plt.yticks([(34.5-i) for i in range(35)][::2],(res_names[::17][::2]))"
   ]
  },
  {
   "cell_type": "code",
   "execution_count": null,
   "id": "a81904da-7b91-4b6e-bdc1-e971009b1edf",
   "metadata": {},
   "outputs": [],
   "source": []
  }
 ],
 "metadata": {
  "kernelspec": {
   "display_name": "Python 3",
   "language": "python",
   "name": "python3"
  },
  "language_info": {
   "codemirror_mode": {
    "name": "ipython",
    "version": 3
   },
   "file_extension": ".py",
   "mimetype": "text/x-python",
   "name": "python",
   "nbconvert_exporter": "python",
   "pygments_lexer": "ipython3",
   "version": "3.9.0"
  }
 },
 "nbformat": 4,
 "nbformat_minor": 5
}
